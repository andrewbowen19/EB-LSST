{
 "cells": [
  {
   "cell_type": "markdown",
   "metadata": {},
   "source": [
    "Making a Color Map of different points for various Teff, logg"
   ]
  },
  {
   "cell_type": "code",
   "execution_count": 1,
   "metadata": {},
   "outputs": [],
   "source": [
    "# Need to create a method to make this for each filter\n",
    "#     Method need to take in filter as a parameter"
   ]
  },
  {
   "cell_type": "code",
   "execution_count": 3,
   "metadata": {},
   "outputs": [],
   "source": [
    "import matplotlib.pyplot as plt\n",
    "import numpy as np\n",
    "import ellc\n",
    "import pandas as pd\n",
    "%matplotlib notebook"
   ]
  },
  {
   "cell_type": "code",
   "execution_count": 6,
   "metadata": {},
   "outputs": [],
   "source": [
    "filename = 'tableeq5.dat'\n",
    "names = ['logg','Teff','Z','xi','a1','a2','a3','a4','Filt','method','model']\n",
    "dat = pd.read_csv(filename, delim_whitespace=True, header=None, names = names)"
   ]
  },
  {
   "cell_type": "code",
   "execution_count": 7,
   "metadata": {},
   "outputs": [],
   "source": [
    "# Get row function from table_values code\n",
    "def get_row(logg, Teff, Z, Filt):\n",
    "    selected_row = dat[(dat['logg'] == logg) & (dat['Teff'] == Teff) & (dat['xi'] == 2) & (dat['Z'] == Z)&\\\n",
    "                      (dat['Filt'] == Filt) & (dat['model'] == 'ATLAS')]\n",
    "    a1_value = selected_row['a1'].values[0]\n",
    "    a2_value = selected_row['a2'].values[0]\n",
    "    a3_value = selected_row['a3'].values[0]\n",
    "    a4_value = selected_row['a4'].values[0]\n",
    "#     print(selected_row)\n",
    "    return a1_value, a2_value, a3_value, a4_value"
   ]
  },
  {
   "cell_type": "code",
   "execution_count": 99,
   "metadata": {},
   "outputs": [],
   "source": [
    "# Empty arrays to append values to later\n",
    "\n",
    "T_all = np.array([])\n",
    "G_all = np.array([])\n",
    "diffs = np.array([])"
   ]
  },
  {
   "cell_type": "code",
   "execution_count": 100,
   "metadata": {},
   "outputs": [],
   "source": [
    "# Value arrays for effective temperature and log gravity\n",
    "Teff = np.arange(3500,10000,250)\n",
    "logg = np.arange(2,5,0.5)\n",
    "Z = 0\n",
    "# Filters and wavelengths (ellc):\n",
    "filters = ['u_','g_','r_','i_','z_', \"J\", 'H', \"K\" ]   #These filters are formatted how they appear in the csv file\n",
    "wavelength = [354, 464, 621.5, 754.5, 870, 1220, 1630, 2190]   #Correspond to each of above filters (in order)\n",
    "\n",
    "#Accounts for dumb comma/underscore difference\n",
    "SDSSfilters = ['u,','g,','r,','i,','z,', \"J\", 'H', \"K\" ]\n",
    "SDSSwavelength = [354, 464, 621.5, 754.5, 870, 1220, 1630, 2190] \n",
    "\n",
    "\n",
    "# Dictionary for filter indexes\n",
    "ellcfilter_indexes = {'u_':0, 'g_':1, 'r_':2, 'i_':3, 'z_':4, 'y_':5, 'J':5, 'H':6, 'K':7}"
   ]
  },
  {
   "cell_type": "code",
   "execution_count": 103,
   "metadata": {},
   "outputs": [
    {
     "name": "stdout",
     "output_type": "stream",
     "text": [
      " \n",
      "None\n"
     ]
    }
   ],
   "source": [
    "# Setting up for loops\n",
    "# first - get ellc values\n",
    "\n",
    "def get_ellc_values_u():\n",
    "    global T_all\n",
    "    global G_all\n",
    "    for T in Teff:\n",
    "        for g in logg:\n",
    "            filtVals = dict()\n",
    "            filtVals['a1'] = np.array([])\n",
    "            filtVals['a2'] = np.array([])\n",
    "            filtVals['a3'] = np.array([])\n",
    "            filtVals['a4'] = np.array([])\n",
    "\n",
    "            for w, f in zip(wavelength, filters):\n",
    "                ldy_filt = ellc.ldy.LimbGravityDarkeningCoeffs(f)\n",
    "                a1, a2, a3, a4, y = ldy_filt(T, g, Z)\n",
    "                filtVals['a1'] = np.append(filtVals['a1'], a1)\n",
    "                filtVals['a2'] = np.append(filtVals['a2'], a2)\n",
    "                filtVals['a3'] = np.append(filtVals['a3'], a3)\n",
    "                filtVals['a4'] = np.append(filtVals['a4'], a4)\n",
    "            a1_ldc = filtVals['a1'][0]\n",
    "            a2_ldc = filtVals['a2'][0]\n",
    "            a3_ldc = filtVals['a3'][0]\n",
    "            a4_ldc = filtVals['a4'][0]\n",
    "#             print(' ')\n",
    "            ellc_ldc = [a1_ldc, a2_ldc, a3_ldc, a4_ldc]\n",
    "#             print('List of ellc coefficients:')\n",
    "#             print(ellc_ldc)\n",
    "            T_all = np.append(T_all, ellc_ldc)\n",
    "            G_all = np.append(T_all, ellc_ldc)\n",
    "\n",
    "print(' ')\n",
    "print(get_ellc_values_u())"
   ]
  },
  {
   "cell_type": "code",
   "execution_count": 137,
   "metadata": {},
   "outputs": [
    {
     "name": "stdout",
     "output_type": "stream",
     "text": [
      "{'a1': array([1.23560312, 1.1489327 , 0.9995211 , 0.83394989, 0.72284691,\n",
      "       0.68380947, 0.64934615, 0.61509341, 0.57642852, 0.55133177,\n",
      "       0.53327583, 0.50697798, 0.49645298, 0.47887281, 0.45673141,\n",
      "       0.44595964, 0.43112123, 0.41331854, 0.41904636, 0.4703962 ,\n",
      "       0.51452581, 0.51529801, 0.51228074, 0.50647994, 0.50483917,\n",
      "       0.5002995 ]), 'a2': array([-1.71619866, -1.40756432, -0.92895858, -0.38790023, -0.11549733,\n",
      "       -0.08203668, -0.05933029, -0.02661501,  0.0343005 ,  0.06094164,\n",
      "        0.07957624,  0.11198069,  0.09528661,  0.10244997,  0.12561113,\n",
      "        0.11182726,  0.09993349,  0.08254542, -0.02169699, -0.30066161,\n",
      "       -0.48009285, -0.50691751, -0.53291018, -0.54330894, -0.56039244,\n",
      "       -0.56250363]), 'a3': array([ 1.40617274,  1.13014197,  0.72074776,  0.17496601, -0.09952921,\n",
      "       -0.12486931, -0.14427406, -0.1795379 , -0.25974894, -0.29961412,\n",
      "       -0.34700722, -0.3947767 , -0.38336012, -0.39196325, -0.41574187,\n",
      "       -0.39091559, -0.35669871, -0.30738666, -0.1453262 ,  0.23106418,\n",
      "        0.41568671,  0.43032082,  0.46125665,  0.47398212,  0.49704964,\n",
      "        0.50010459]), 'a4': array([-0.45458607, -0.36045472, -0.23057105, -0.04360037,  0.05136991,\n",
      "        0.05909913,  0.06668981,  0.08037953,  0.11554454,  0.13388447,\n",
      "        0.16109395,  0.18384602,  0.18340306,  0.18738036,  0.19662421,\n",
      "        0.18467399,  0.16609629,  0.14092869,  0.06853674, -0.08628518,\n",
      "       -0.14390001, -0.14390781, -0.15548083, -0.15951923, -0.16926742,\n",
      "       -0.17010182])}\n"
     ]
    }
   ],
   "source": [
    "# Use these lines of code to actually pull out LDCs from ELLC, can use for loop for each LSST filter if needed\n",
    "# This is meat of color map code - pulls out ellc coeffs for each \n",
    "ELLCfilters = ['u_','g_','r_','i_','z_', \"J\", 'H', \"K\" ]\n",
    "ELLCwavelength = [354, 464, 621.5, 754.5, 870, 1220, 1630, 2190]\n",
    "\n",
    "filtVals = dict()\n",
    "filtVals['a1'] = np.array([])\n",
    "filtVals['a2'] = np.array([])\n",
    "filtVals['a3'] = np.array([])\n",
    "filtVals['a4'] = np.array([])\n",
    "for w,f in zip(ELLCwavelength, ELLCfilters):\n",
    "\n",
    "#this portion here could be a method\n",
    "    for T in Teff:\n",
    "        for g in logg:\n",
    "            ldy_filt = ellc.ldy.LimbGravityDarkeningCoeffs(f)\n",
    "            a1, a2, a3, a4, y = ldy_filt(T, g, Z)\n",
    "            #get for Claret table\n",
    "            #generate both light curves\n",
    "            #get the difference\n",
    "            #allT = np.append(allT, T) ---> allT is same as T_all\n",
    "            #same for g, same for diff\n",
    "            #make plot\n",
    "            #Calll method for each filter in filter for loop above\n",
    "# Need to append in right indent within for loop (26 values for each number)\n",
    "#     filtVals['a1'] = np.append(filtVals['a1'], a1)\n",
    "#     filtVals['a2'] = np.append(filtVals['a2'], a2)\n",
    "#     filtVals['a3'] = np.append(filtVals['a3'], a3)\n",
    "#     filtVals['a4'] = np.append(filtVals['a4'], a4)\n",
    "\n",
    "print(filtVals)    "
   ]
  },
  {
   "cell_type": "code",
   "execution_count": 141,
   "metadata": {},
   "outputs": [
    {
     "name": "stdout",
     "output_type": "stream",
     "text": [
      "{'a1': array([       nan, 0.89581364, 0.70730767, 0.59380252, 0.53269943,\n",
      "       0.5002995 ]), 'a2': array([        nan, -1.3590308 , -0.98762043, -0.7558092 , -0.63100167,\n",
      "       -0.56250363]), 'a3': array([       nan, 1.25882942, 0.90982072, 0.6875089 , 0.56840089,\n",
      "       0.50010459]), 'a4': array([        nan, -0.43711034, -0.31490755, -0.23630289, -0.1947998 ,\n",
      "       -0.17010182])}\n"
     ]
    }
   ],
   "source": [
    "ELLCfilters = ['u_','g_','r_','i_','z_', \"J\", 'H', \"K\" ]\n",
    "ELLCwavelength = [354, 464, 621.5, 754.5, 870, 1220, 1630, 2190]\n",
    "\n",
    "filtVals = dict()\n",
    "filtVals['a1'] = np.array([])\n",
    "filtVals['a2'] = np.array([])\n",
    "filtVals['a3'] = np.array([])\n",
    "filtVals['a4'] = np.array([])\n",
    "for g in logg:\n",
    "    for T in Teff:\n",
    "        for w,f in zip(ELLCwavelength, ELLCfilters):\n",
    "            ldy_filt = ellc.ldy.LimbGravityDarkeningCoeffs(f)\n",
    "            a1, a2, a3, a4, y = ldy_filt(T, g, Z)\n",
    "# Need to append in right indent within for loop (26 values for each number)\n",
    "    filtVals['a1'] = np.append(filtVals['a1'], a1)\n",
    "    filtVals['a2'] = np.append(filtVals['a2'], a2)\n",
    "    filtVals['a3'] = np.append(filtVals['a3'], a3)\n",
    "    filtVals['a4'] = np.append(filtVals['a4'], a4)\n",
    "print(filtVals)"
   ]
  },
  {
   "cell_type": "code",
   "execution_count": null,
   "metadata": {},
   "outputs": [],
   "source": []
  },
  {
   "cell_type": "code",
   "execution_count": 152,
   "metadata": {},
   "outputs": [
    {
     "name": "stdout",
     "output_type": "stream",
     "text": [
      "(0.5003, -0.5625, 0.5001, -0.1701)\n"
     ]
    }
   ],
   "source": [
    "def get_claret_values(filt):\n",
    "    for T in Teff:\n",
    "        for g in logg:\n",
    "            for w,f in zip(SDSSwavelength, SDSSfilters):\n",
    "                \n",
    "                claret_ldc = get_row(g, T, Z, f)\n",
    "    return claret_ldc\n",
    "print(get_claret_values('u,'))"
   ]
  },
  {
   "cell_type": "code",
   "execution_count": 145,
   "metadata": {},
   "outputs": [
    {
     "name": "stdout",
     "output_type": "stream",
     "text": [
      "(0.3444, 1.0506, -1.39, 0.9141)\n",
      "(0.4456, 0.1784, -0.3213, 0.6542)\n",
      "(0.7389, -0.5819, 0.5893, 0.1828)\n",
      "(0.9705, -0.8832, 0.8963, -0.1152)\n",
      "(1.0256, -1.0205, 1.1241, -0.2931)\n",
      "(0.9283, -1.065, 1.2781, -0.4523)\n",
      "(0.7975, -0.0392, -0.0511, 0.0044)\n",
      "(0.7822, -0.2407, 0.1118, -0.0397)\n"
     ]
    }
   ],
   "source": [
    "# For loop to return Claret LDCs for each SDSS filter\n",
    "for w,f in zip(SDSSwavelength, SDSSfilters):\n",
    "    print(get_claret_values(f))\n"
   ]
  },
  {
   "cell_type": "code",
   "execution_count": 76,
   "metadata": {},
   "outputs": [
    {
     "ename": "NameError",
     "evalue": "name 'ellc_ldc' is not defined",
     "output_type": "error",
     "traceback": [
      "\u001b[0;31m---------------------------------------------------------------------------\u001b[0m",
      "\u001b[0;31mNameError\u001b[0m                                 Traceback (most recent call last)",
      "\u001b[0;32m<ipython-input-76-7a97241cf12d>\u001b[0m in \u001b[0;36m<module>\u001b[0;34m()\u001b[0m\n\u001b[1;32m      5\u001b[0m \u001b[0;34m\u001b[0m\u001b[0m\n\u001b[1;32m      6\u001b[0m flux = ellc.lc(t, radius_1 = 0.5, radius_2 = 0.4, sbratio = 0.3, incl = 90, q = 0.5,\n\u001b[0;32m----> 7\u001b[0;31m                \u001b[0mld_1\u001b[0m \u001b[0;34m=\u001b[0m \u001b[0;34m'claret'\u001b[0m\u001b[0;34m,\u001b[0m \u001b[0mldc_1\u001b[0m \u001b[0;34m=\u001b[0m \u001b[0mellc_ldc\u001b[0m\u001b[0;34m,\u001b[0m\u001b[0;34m\u001b[0m\u001b[0m\n\u001b[0m\u001b[1;32m      8\u001b[0m                \u001b[0mld_2\u001b[0m \u001b[0;34m=\u001b[0m \u001b[0;34m'claret'\u001b[0m\u001b[0;34m,\u001b[0m \u001b[0mldc_2\u001b[0m \u001b[0;34m=\u001b[0m \u001b[0mellc_ldc\u001b[0m\u001b[0;34m,\u001b[0m\u001b[0;34m\u001b[0m\u001b[0m\n\u001b[1;32m      9\u001b[0m                shape_1 = 'sphere', shape_2 = 'sphere')\n",
      "\u001b[0;31mNameError\u001b[0m: name 'ellc_ldc' is not defined"
     ]
    }
   ],
   "source": [
    "# Making light curves from LCC file\n",
    "# u-filter\n",
    "t = np.linspace(0,3, 1000)\n",
    "spots_1 = [[20,160], [-50,50], [20,30], [0,1]]\n",
    "\n",
    "flux = ellc.lc(t, radius_1 = 0.5, radius_2 = 0.4, sbratio = 0.3, incl = 90, q = 0.5,\n",
    "               ld_1 = 'claret', ldc_1 = ellc_ldc, \n",
    "               ld_2 = 'claret', ldc_2 = ellc_ldc,\n",
    "               shape_1 = 'sphere', shape_2 = 'sphere')\n",
    "#                spots_1 = spots_1, spots_2 = spots_1)\n",
    "# Set of LDCs #2\n",
    "\n",
    "# Turning get_row output into a list\n",
    "# Plotting with Claret LDCs from get_row function\n",
    "flux2 = ellc.lc(t, radius_1 = 0.5, radius_2 = 0.4, sbratio = 0.3, incl = 90, q = 0.5,\n",
    "               ld_1 = 'claret', ldc_1 = claret_ldc, \n",
    "               ld_2 = 'claret', ldc_2 = claret_ldc,\n",
    "               shape_1 = 'sphere', shape_2 = 'sphere')\n",
    "f,(ax1,ax2) = plt.subplots(2,1)\n",
    "ax1.plot(t, flux, color = 'DarkOrange')\n",
    "ax1.plot(t, flux2, color = 'DodgerBlue')\n",
    "ax1.set_xlim(0., 3)\n",
    "ax1.set_xlabel('Time', fontsize = 16)\n",
    "ax1.set_ylabel('Brightness', fontsize = 16)\n",
    "# percent diff\n",
    "ax2.plot(t, abs(flux-flux2)/flux)\n",
    "d = max(abs((flux-flux2)/flux))\n",
    "print(d)"
   ]
  },
  {
   "cell_type": "code",
   "execution_count": 91,
   "metadata": {},
   "outputs": [],
   "source": [
    "ellcVals = dict()\n",
    "ellcVals['a1'] = np.array([])\n",
    "ellcVals['a2'] = np.array([])\n",
    "ellcVals['a3'] = np.array([])\n",
    "ellcVals['a4'] = np.array([])\n",
    "def get_ellc_coefs(filt):\n",
    "    for T in Teff:\n",
    "        for g in logg:\n",
    "            for w,f in zip(wavelength, filters):\n",
    "                ldy_filt = ellc.ldy.LimbGravityDarkeningCoeffs(f)\n",
    "                a1, a2, a3, a4, y = ldy_filt(T, logg)\n",
    "                \n"
   ]
  },
  {
   "cell_type": "code",
   "execution_count": 92,
   "metadata": {},
   "outputs": [
    {
     "name": "stdout",
     "output_type": "stream",
     "text": [
      "26\n",
      "6\n",
      "{'a1': array([], dtype=float64), 'a2': array([], dtype=float64), 'a3': array([], dtype=float64), 'a4': array([], dtype=float64)}\n"
     ]
    }
   ],
   "source": [
    "print(len(Teff))\n",
    "print(len(logg))\n",
    "print(ellcVals)"
   ]
  },
  {
   "cell_type": "code",
   "execution_count": null,
   "metadata": {},
   "outputs": [],
   "source": []
  }
 ],
 "metadata": {
  "kernelspec": {
   "display_name": "Python 3",
   "language": "python",
   "name": "python3"
  },
  "language_info": {
   "codemirror_mode": {
    "name": "ipython",
    "version": 3
   },
   "file_extension": ".py",
   "mimetype": "text/x-python",
   "name": "python",
   "nbconvert_exporter": "python",
   "pygments_lexer": "ipython3",
   "version": "3.6.5"
  }
 },
 "nbformat": 4,
 "nbformat_minor": 2
}
